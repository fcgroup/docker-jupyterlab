{
 "cells": [
  {
   "cell_type": "markdown",
   "id": "f5b6bc1a",
   "metadata": {},
   "source": [
    "# Weighing Your Options\n",
    "\n",
    "You've been poisoned. There are 12 unlabelled vials and a scale in the medical pack. The manifest in the medical pack indicates that there are 11 vials of antedote for a single unrelated poison, and 1 vial of antedote for the poison you've consumed. The vial you need is either heaver or lighter than the other 11. You only have enough time to use the scale 3 times before the poison will kill you.\n",
    "\n",
    "The vials are entries in a randomized array. Write a function that returns the index of the vial you'll consume. You can use the `weigh()` function to compare two or more vials by passing their indices:\n",
    "\n",
    "```\n",
    "function weigh(sideA: number[], sideB: number[]): -1 | 0 | 1 { ... }\n",
    "```\n",
    "\n",
    "The weigh function takes two non-empty arrays of numbers (indices of vials) you want to compare and will return:\n",
    "\n",
    "- `-1` if side A is lighter than side B\n",
    "- `0` if side A is equal to side B\n",
    "- `1` if side A is heavier than side B"
   ]
  },
  {
   "cell_type": "code",
   "execution_count": 1,
   "id": "364f9d20",
   "metadata": {},
   "outputs": [
    {
     "data": {
      "text/plain": [
       "0"
      ]
     },
     "execution_count": 1,
     "metadata": {},
     "output_type": "execute_result"
    }
   ],
   "source": [
    "// Comparison method\n",
    "vials = [];\n",
    "ticks = 0;\n",
    "\n",
    "function weigh(sideA, sideB) {\n",
    "  function sum(side) {\n",
    "    return side.reduce((a, c) => {\n",
    "      return a + vials[c];\n",
    "    }, 0);\n",
    "  }\n",
    "  ticks++;\n",
    "  const a = Array.isArray(sideA) ? sum(sideA) : vials[sideA];\n",
    "  const b = Array.isArray(sideB) ? sum(sideB) : vials[sideB];\n",
    "  return a - b;\n",
    "}"
   ]
  },
  {
   "cell_type": "code",
   "execution_count": 2,
   "id": "efba7312",
   "metadata": {},
   "outputs": [],
   "source": [
    "// Write a function that returns the correct index of the antedote vial.\n",
    "// You may call `weigh()` no more than 3 times.\n",
    "// Correct solutions must not access anything outside the scope of the function other than calls to `weigh()`.\n",
    "function solve() {\n",
    "  return 0;\n",
    "}"
   ]
  },
  {
   "cell_type": "code",
   "execution_count": 4,
   "id": "9e6d3527",
   "metadata": {},
   "outputs": [
    {
     "name": "stdout",
     "output_type": "stream",
     "text": [
      "Testing permutation: [0,0,-1,0,0,0,0,0,0,0,0,0]...\n"
     ]
    },
    {
     "name": "stderr",
     "output_type": "stream",
     "text": [
      "FAILURE!\n"
     ]
    },
    {
     "name": "stdout",
     "output_type": "stream",
     "text": [
      "Testing permutation: [0,0,-1,0,0,0,0,0,0,0,0,0]...\n"
     ]
    },
    {
     "name": "stderr",
     "output_type": "stream",
     "text": [
      "FAILURE!\n"
     ]
    },
    {
     "name": "stdout",
     "output_type": "stream",
     "text": [
      "Testing permutation: [0,0,0,0,0,0,0,0,-1,0,0,0]...\n"
     ]
    },
    {
     "name": "stderr",
     "output_type": "stream",
     "text": [
      "FAILURE!\n"
     ]
    },
    {
     "name": "stdout",
     "output_type": "stream",
     "text": [
      "Testing permutation: [0,0,0,0,-1,0,0,0,0,0,0,0]...\n"
     ]
    },
    {
     "name": "stderr",
     "output_type": "stream",
     "text": [
      "FAILURE!\n"
     ]
    },
    {
     "name": "stdout",
     "output_type": "stream",
     "text": [
      "Testing permutation: [0,0,0,0,0,0,0,-1,0,0,0,0]...\n"
     ]
    },
    {
     "name": "stderr",
     "output_type": "stream",
     "text": [
      "FAILURE!\n"
     ]
    },
    {
     "name": "stdout",
     "output_type": "stream",
     "text": [
      "Testing permutation: [-1,0,0,0,0,0,0,0,0,0,0,0]...\n",
      "SUCCESS!\n",
      "Testing permutation: [0,-1,0,0,0,0,0,0,0,0,0,0]...\n"
     ]
    },
    {
     "name": "stderr",
     "output_type": "stream",
     "text": [
      "FAILURE!\n"
     ]
    },
    {
     "name": "stdout",
     "output_type": "stream",
     "text": [
      "Testing permutation: [0,0,0,0,-1,0,0,0,0,0,0,0]...\n"
     ]
    },
    {
     "name": "stderr",
     "output_type": "stream",
     "text": [
      "FAILURE!\n"
     ]
    },
    {
     "name": "stdout",
     "output_type": "stream",
     "text": [
      "Testing permutation: [0,0,0,0,0,0,0,0,-1,0,0,0]...\n"
     ]
    },
    {
     "name": "stderr",
     "output_type": "stream",
     "text": [
      "FAILURE!\n"
     ]
    },
    {
     "name": "stdout",
     "output_type": "stream",
     "text": [
      "Testing permutation: [0,0,0,0,0,-1,0,0,0,0,0,0]...\n"
     ]
    },
    {
     "name": "stderr",
     "output_type": "stream",
     "text": [
      "FAILURE!\n"
     ]
    },
    {
     "name": "stdout",
     "output_type": "stream",
     "text": [
      "Testing permutation: [0,0,0,-1,0,0,0,0,0,0,0,0]...\n"
     ]
    },
    {
     "name": "stderr",
     "output_type": "stream",
     "text": [
      "FAILURE!\n"
     ]
    },
    {
     "name": "stdout",
     "output_type": "stream",
     "text": [
      "Testing permutation: [0,0,0,0,0,-1,0,0,0,0,0,0]...\n"
     ]
    },
    {
     "name": "stderr",
     "output_type": "stream",
     "text": [
      "FAILURE!\n"
     ]
    },
    {
     "name": "stdout",
     "output_type": "stream",
     "text": [
      "Testing permutation: [0,0,0,0,0,0,0,0,0,0,0,-1]...\n"
     ]
    },
    {
     "name": "stderr",
     "output_type": "stream",
     "text": [
      "FAILURE!\n"
     ]
    },
    {
     "name": "stdout",
     "output_type": "stream",
     "text": [
      "Testing permutation: [0,0,0,0,0,0,-1,0,0,0,0,0]...\n"
     ]
    },
    {
     "name": "stderr",
     "output_type": "stream",
     "text": [
      "FAILURE!\n"
     ]
    },
    {
     "name": "stdout",
     "output_type": "stream",
     "text": [
      "Testing permutation: [0,0,0,0,0,0,0,0,0,0,-1,0]...\n"
     ]
    },
    {
     "name": "stderr",
     "output_type": "stream",
     "text": [
      "FAILURE!\n"
     ]
    },
    {
     "name": "stdout",
     "output_type": "stream",
     "text": [
      "Testing permutation: [0,0,0,0,0,0,0,0,0,0,0,-1]...\n"
     ]
    },
    {
     "name": "stderr",
     "output_type": "stream",
     "text": [
      "FAILURE!\n"
     ]
    },
    {
     "name": "stdout",
     "output_type": "stream",
     "text": [
      "Testing permutation: [0,-1,0,0,0,0,0,0,0,0,0,0]...\n"
     ]
    },
    {
     "name": "stderr",
     "output_type": "stream",
     "text": [
      "FAILURE!\n"
     ]
    },
    {
     "name": "stdout",
     "output_type": "stream",
     "text": [
      "Testing permutation: [0,0,0,0,0,0,0,0,0,-1,0,0]...\n"
     ]
    },
    {
     "name": "stderr",
     "output_type": "stream",
     "text": [
      "FAILURE!\n"
     ]
    },
    {
     "name": "stdout",
     "output_type": "stream",
     "text": [
      "Testing permutation: [0,0,0,0,0,0,-1,0,0,0,0,0]...\n"
     ]
    },
    {
     "name": "stderr",
     "output_type": "stream",
     "text": [
      "FAILURE!\n"
     ]
    },
    {
     "name": "stdout",
     "output_type": "stream",
     "text": [
      "Testing permutation: [0,0,0,-1,0,0,0,0,0,0,0,0]...\n"
     ]
    },
    {
     "name": "stderr",
     "output_type": "stream",
     "text": [
      "FAILURE!\n"
     ]
    },
    {
     "name": "stdout",
     "output_type": "stream",
     "text": [
      "Testing permutation: [0,0,0,0,0,0,0,0,0,0,-1,0]...\n"
     ]
    },
    {
     "name": "stderr",
     "output_type": "stream",
     "text": [
      "FAILURE!\n"
     ]
    },
    {
     "name": "stdout",
     "output_type": "stream",
     "text": [
      "Testing permutation: [0,0,0,0,0,0,0,0,0,-1,0,0]...\n"
     ]
    },
    {
     "name": "stderr",
     "output_type": "stream",
     "text": [
      "FAILURE!\n"
     ]
    },
    {
     "name": "stdout",
     "output_type": "stream",
     "text": [
      "Testing permutation: [-1,0,0,0,0,0,0,0,0,0,0,0]...\n",
      "SUCCESS!\n",
      "Testing permutation: [0,0,0,0,0,0,0,-1,0,0,0,0]...\n"
     ]
    },
    {
     "name": "stderr",
     "output_type": "stream",
     "text": [
      "FAILURE!\n"
     ]
    }
   ],
   "source": [
    "// Generate all permutations of the test.\n",
    "permutations = [];\n",
    "for (let i = 0; i < 12; i++) {\n",
    "  const p = [0, 0, 0, 0, 0, 0, 0, 0, 0, 0, 0, 0];\n",
    "  p[i] = 1;\n",
    "  permutations.push(p);\n",
    "  p[i] = -1;\n",
    "  permutations.push(p);\n",
    "}\n",
    "\n",
    "// Randomize the order of the permutations.\n",
    "for (let i = permutations.length - 1; i > 0; i--) {\n",
    "  const j = Math.floor(Math.random() * (i + 1));\n",
    "  const temp = permutations[i];\n",
    "  permutations[i] = permutations[j];\n",
    "  permutations[j] = temp;\n",
    "}\n",
    "\n",
    "for (const permutation of permutations) {\n",
    "  console.log(`Testing permutation: ${ JSON.stringify(permutation) }...`);\n",
    "\n",
    "  // Reset state and setup test data.\n",
    "  ticks = 0;\n",
    "  vials = permutation;\n",
    "\n",
    "  const result = solve();\n",
    "  if (permutation[result] === 0 || ticks > 3) {\n",
    "    console.error('FAILURE!');\n",
    "  }\n",
    "  else {\n",
    "    console.log('SUCCESS!');\n",
    "  }\n",
    "}"
   ]
  },
  {
   "cell_type": "code",
   "execution_count": null,
   "id": "702bcaba",
   "metadata": {},
   "outputs": [],
   "source": []
  }
 ],
 "metadata": {
  "kernelspec": {
   "display_name": "Javascript (Node.js)",
   "language": "javascript",
   "name": "javascript"
  },
  "language_info": {
   "file_extension": ".js",
   "mimetype": "application/javascript",
   "name": "javascript",
   "version": "12.4.0"
  }
 },
 "nbformat": 4,
 "nbformat_minor": 5
}

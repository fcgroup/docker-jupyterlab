{
 "cells": [
  {
   "cell_type": "markdown",
   "id": "47760cec",
   "metadata": {},
   "source": [
    "Update the function below to add `first` and `second` but without using the addition operator."
   ]
  },
  {
   "cell_type": "code",
   "execution_count": 20,
   "id": "5209cb53",
   "metadata": {},
   "outputs": [],
   "source": [
    "def add(first, second):\n",
    "    return first + second"
   ]
  },
  {
   "cell_type": "code",
   "execution_count": 21,
   "id": "1e5026fa",
   "metadata": {},
   "outputs": [],
   "source": [
    "assert add(1,1) == 2"
   ]
  },
  {
   "cell_type": "code",
   "execution_count": 22,
   "id": "b5c06a43",
   "metadata": {},
   "outputs": [],
   "source": [
    "assert add(2,2) == 4"
   ]
  },
  {
   "cell_type": "code",
   "execution_count": 23,
   "id": "f1c8cf87",
   "metadata": {},
   "outputs": [],
   "source": [
    "assert add(1,2) == 3"
   ]
  },
  {
   "cell_type": "code",
   "execution_count": 24,
   "id": "ce427641",
   "metadata": {},
   "outputs": [],
   "source": [
    "assert add(3,4) == 7"
   ]
  },
  {
   "cell_type": "code",
   "execution_count": null,
   "id": "25f217e4",
   "metadata": {},
   "outputs": [],
   "source": []
  }
 ],
 "metadata": {
  "kernelspec": {
   "display_name": "Python 3 (ipykernel)",
   "language": "python",
   "name": "python3"
  },
  "language_info": {
   "codemirror_mode": {
    "name": "ipython",
    "version": 3
   },
   "file_extension": ".py",
   "mimetype": "text/x-python",
   "name": "python",
   "nbconvert_exporter": "python",
   "pygments_lexer": "ipython3",
   "version": "3.9.6"
  }
 },
 "nbformat": 4,
 "nbformat_minor": 5
}

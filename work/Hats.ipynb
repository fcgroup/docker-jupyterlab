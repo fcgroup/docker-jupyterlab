{
 "cells": [
  {
   "cell_type": "markdown",
   "id": "08548053",
   "metadata": {},
   "source": [
    "# Hats\n",
    "\n",
    "There is a line of people standing in descending height order (tallest to shortest) with each person facing the back of the next person in line. Each of them is wearing a randomly assigned blue or green hat. In order, starting with the tallest, each person must guess the color of the hat they're wearing. They cannot communicate with one another and cannot reply anything other than \"blue\" or \"green\".\n",
    "\n",
    "Write a function that takes the known information for each person (the visible hats that person can see and the previous answers) that correctly guesses that person's hat color with an aggregate accuracy of ≥ 90% (no more than 1 person of the 10 may answer incorrectly)."
   ]
  },
  {
   "cell_type": "code",
   "execution_count": 1,
   "id": "7f7e1ec1",
   "metadata": {},
   "outputs": [
    {
     "data": {
      "text/plain": [
       "10"
      ]
     },
     "execution_count": 1,
     "metadata": {},
     "output_type": "execute_result"
    }
   ],
   "source": [
    "// Generate sample data\n",
    "people = [];\n",
    "for (let i = 0; i < 10; i++) {\n",
    "  people.push({\n",
    "    hat: Math.random() < 0.5 ? 'blue' : 'green',\n",
    "    answer: null,\n",
    "  });\n",
    "}"
   ]
  },
  {
   "cell_type": "code",
   "execution_count": 2,
   "id": "3a541c14",
   "metadata": {},
   "outputs": [],
   "source": [
    "// Present a valid solution within this function.\n",
    "// A valid solution must be a pure function and must not access anything outside the scope of this function.\n",
    "function respond(previousAnswers, visibleHats) {\n",
    "  return Math.random() < 0.5 ? 'blue' : 'green';\n",
    "}"
   ]
  },
  {
   "cell_type": "code",
   "execution_count": 3,
   "id": "1f3aad93",
   "metadata": {},
   "outputs": [
    {
     "name": "stdout",
     "output_type": "stream",
     "text": [
      "Person 0 has a blue hat and answered \"blue\" (CORRECT).\n",
      "Person 1 has a blue hat and answered \"green\" (INCORRECT).\n",
      "Person 2 has a blue hat and answered \"green\" (INCORRECT).\n",
      "Person 3 has a green hat and answered \"blue\" (INCORRECT).\n",
      "Person 4 has a green hat and answered \"blue\" (INCORRECT).\n",
      "Person 5 has a green hat and answered \"blue\" (INCORRECT).\n",
      "Person 6 has a blue hat and answered \"blue\" (CORRECT).\n",
      "Person 7 has a green hat and answered \"blue\" (INCORRECT).\n",
      "Person 8 has a green hat and answered \"green\" (CORRECT).\n",
      "Person 9 has a green hat and answered \"green\" (CORRECT).\n",
      "40% answered correctly.\n"
     ]
    },
    {
     "name": "stderr",
     "output_type": "stream",
     "text": [
      "FAILED!\n"
     ]
    }
   ],
   "source": [
    "// Test execution\n",
    "for (const [i, person] of people.entries()) {\n",
    "  person.answer = respond(people.slice(0, i).map(x => x.answer), people.slice(i + 1).map(x => x.hat));\n",
    "}\n",
    "\n",
    "// Results\n",
    "correctCount = 0;\n",
    "for (const [i, person] of people.entries()) {\n",
    "  let result = 'INCORRECT';\n",
    "  if (person.hat === person.answer) {\n",
    "    correctCount++;\n",
    "    result = 'CORRECT';\n",
    "  }\n",
    "  console.log(`Person ${ i } has a ${ person.hat } hat and answered \"${ person.answer }\" (${ result }).`);\n",
    "}\n",
    "\n",
    "\n",
    "console.log(`${ correctCount * 10 }% answered correctly.`);\n",
    "\n",
    "if (correctCount >= 9) {\n",
    "  console.log('SOLVED!');\n",
    "}\n",
    "else {\n",
    "  console.error('FAILED!');\n",
    "}"
   ]
  },
  {
   "cell_type": "code",
   "execution_count": null,
   "id": "efac7eaf",
   "metadata": {},
   "outputs": [],
   "source": []
  }
 ],
 "metadata": {
  "kernelspec": {
   "display_name": "JavaScript (Node.js)",
   "language": "javascript",
   "name": "javascript"
  },
  "language_info": {
   "file_extension": ".js",
   "mimetype": "application/javascript",
   "name": "javascript",
   "version": "20.8.1"
  }
 },
 "nbformat": 4,
 "nbformat_minor": 5
}

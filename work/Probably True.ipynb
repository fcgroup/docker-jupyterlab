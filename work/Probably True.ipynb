{
 "cells": [
  {
   "cell_type": "markdown",
   "id": "fd211285",
   "metadata": {},
   "source": [
    "Update the function to return `true` or `false` with 75% and 25% probability respectively."
   ]
  },
  {
   "cell_type": "code",
   "execution_count": 1,
   "id": "9f3bac4b",
   "metadata": {},
   "outputs": [],
   "source": [
    "function test() {\n",
    "    // Update the logic of this function to return false 25% of the time.\n",
    "    return true;\n",
    "}"
   ]
  },
  {
   "cell_type": "code",
   "execution_count": 2,
   "id": "95af0051",
   "metadata": {},
   "outputs": [
    {
     "data": {
      "text/plain": [
       "1000000"
      ]
     },
     "execution_count": 2,
     "metadata": {},
     "output_type": "execute_result"
    }
   ],
   "source": [
    "// Collect results\n",
    "const results = [];\n",
    "for (let i = 0; i < 1000000; i++) {\n",
    "    results.push(test());\n",
    "}"
   ]
  },
  {
   "cell_type": "code",
   "execution_count": 3,
   "id": "d77f9ba6",
   "metadata": {},
   "outputs": [],
   "source": [
    "// Compute percentages\n",
    "const trueCount = results.filter(x => !!x).length;\n",
    "const falseCount = results.filter(x => !x).length;\n",
    "const totalCount = results.length;\n",
    "const truePercent = Math.round((trueCount / totalCount) * 100, 0);\n",
    "const falsePercent = Math.round((falseCount / totalCount) * 100, 0);"
   ]
  },
  {
   "cell_type": "code",
   "execution_count": 4,
   "id": "12e8650a",
   "metadata": {},
   "outputs": [
    {
     "name": "stderr",
     "output_type": "stream",
     "text": [
      "truePercent was 100%, not 75%.\n"
     ]
    }
   ],
   "source": [
    "if (truePercent === 75) {\n",
    "    console.log('PASS');\n",
    "}\n",
    "else {\n",
    "    console.error(`truePercent was ${ truePercent }%, not 75%.`);\n",
    "}"
   ]
  },
  {
   "cell_type": "code",
   "execution_count": 5,
   "id": "ee072911",
   "metadata": {},
   "outputs": [
    {
     "name": "stderr",
     "output_type": "stream",
     "text": [
      "falsePercent was 0%, not 25%.\n"
     ]
    }
   ],
   "source": [
    "if (falsePercent === 25) {\n",
    "    console.log('PASS');\n",
    "}\n",
    "else {\n",
    "    console.error(`falsePercent was ${ falsePercent }%, not 25%.`);\n",
    "}"
   ]
  },
  {
   "cell_type": "code",
   "execution_count": null,
   "id": "75261067",
   "metadata": {},
   "outputs": [],
   "source": []
  }
 ],
 "metadata": {
  "kernelspec": {
   "display_name": "JavaScript (Node.js)",
   "language": "javascript",
   "name": "javascript"
  },
  "language_info": {
   "file_extension": ".js",
   "mimetype": "application/javascript",
   "name": "javascript",
   "version": "20.8.1"
  }
 },
 "nbformat": 4,
 "nbformat_minor": 5
}
